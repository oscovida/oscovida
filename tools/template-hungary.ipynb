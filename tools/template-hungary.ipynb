{
 "cells": [
  {
   "cell_type": "markdown",
   "metadata": {},
   "source": [
    "# %title% %title2%\n",
    "\n",
    "* Homepage of project: https://oscovida.github.io\n",
    "* [Execute this Jupyter Notebook using myBinder](%binderurl%)\n",
    "* notebook creation time: %create_date%"
   ]
  },
  {
   "cell_type": "code",
   "execution_count": 1,
   "metadata": {},
   "outputs": [],
   "source": [
    "%config InlineBackend.figure_formats = ['svg']\n",
    "from oscovida import *\n",
    "\n",
    "region = \"%region%\""
   ]
  },
  {
   "cell_type": "code",
   "execution_count": null,
   "metadata": {
    "scrolled": false
   },
   "outputs": [],
   "source": [
    "overview(country=\"Hungary\", region=\"%region%\");"
   ]
  },
  {
   "cell_type": "code",
   "execution_count": null,
   "metadata": {},
   "outputs": [],
   "source": [
    "# load the data \n",
    "cases, deaths = get_region_hungary(county=\"%region%\")\n",
    "\n",
    "# compose into one table\n",
    "table = compose_dataframe_summary(cases, deaths)\n",
    "\n",
    "# show tables with up to 500 rows\n",
    "pd.set_option(\"display.max_rows\", 500)\n",
    "\n",
    "# display the table\n",
    "table"
   ]
  },
  {
   "cell_type": "markdown",
   "metadata": {},
   "source": [
    "# Explore the data in your web browser\n",
    "\n",
    "- If you want to execute this notebook, [click here to use myBinder](%binderurl%)\n",
    "- and wait (~1 to 2 minutes)\n",
    "- Then press SHIFT+RETURN to advance code cell to code cell\n",
    "- See http://jupyter.org for more details on how to use Jupyter Notebook"
   ]
  },
  {
   "cell_type": "code",
   "execution_count": null,
   "metadata": {},
   "outputs": [],
   "source": []
  },
  {
   "cell_type": "markdown",
   "metadata": {},
   "source": [
    "# Acknowledgements:\n",
    "\n",
    "- Johns Hopkins University provides data for countries\n",
    "- Robert Koch Institute provides data for within Germany\n",
    "- Open source and scientific computing community for the data tools\n",
    "- Github for hosting repository and html files\n",
    "- Project Jupyter for the Notebook and binder service\n",
    "- The H2020 project Photon and Neutron Open Science Cloud ([PaNOSC](https://www.panosc.eu/))\n",
    "\n",
    "--------------------\n",
    "\n",
    "- notebook creation time: %create_date%"
   ]
  },
  {
   "cell_type": "code",
   "execution_count": null,
   "metadata": {},
   "outputs": [],
   "source": [
    "print(f\"Download of data from https://github.com/sanbrock/covid19 at {fetch_data_hungary_last_execution()}.\")"
   ]
  },
  {
   "cell_type": "code",
   "execution_count": null,
   "metadata": {},
   "outputs": [],
   "source": [
    "# to force a fresh download of data, run \"clear_cache()\""
   ]
  }
 ],
 "metadata": {
  "anaconda-cloud": {},
  "kernelspec": {
   "display_name": "Python 3.7",
   "language": "python",
   "name": "python3.7"
  },
  "language_info": {
   "codemirror_mode": {
    "name": "ipython",
    "version": 3
   },
   "file_extension": ".py",
   "mimetype": "text/x-python",
   "name": "python",
   "nbconvert_exporter": "python",
   "pygments_lexer": "ipython3",
   "version": "3.7.2"
  }
 },
 "nbformat": 4,
 "nbformat_minor": 2
}