{
 "cells": [
  {
   "cell_type": "markdown",
   "metadata": {},
   "source": [
    "# Useful notebook to run to test that all figure creation works\n"
   ]
  },
  {
   "cell_type": "markdown",
   "metadata": {},
   "source": [
    "This is not testing for software bugs, but for problems with the data that may result in \n",
    "series  of NaNs or infs, which may trigger an exception with matplotlib (typically\n",
    "when there is no number in a data set to plot, and we set the axis labels to be NaN \n",
    "or inf).\n",
    "\n"
   ]
  },
  {
   "cell_type": "markdown",
   "metadata": {},
   "source": [
    "What is better than running 'generate_countries.ipynb'?\n",
    "\n",
    "- we don't produce html here, and the process is sligthly faster\n",
    "- running 'generate_countries.ipynb' is a little bit indirect:\n",
    "  - we create a notebook template, then execute the template to create html\n",
    "  - in at least one instance, there was an error in the figure creation\n",
    "    (reported by matplotlib) that did not result in an exception, i.e.\n",
    "    that was only discovered by looking at one of the ~600 html files manually"
   ]
  },
  {
   "cell_type": "code",
   "execution_count": null,
   "metadata": {},
   "outputs": [],
   "source": [
    "from multiprocessing import Pool, cpu_count\n",
    "import time\n",
    "import matplotlib\n",
    "matplotlib.use(\"Agg\")\n",
    "\n",
    "#  Set to false if you do not want multiprocessing enabled\n",
    "cores = '1'  # not implemented yet\n",
    "if cores == 'auto':\n",
    "    cores = max(1, cpu_count()-1)\n",
    "\n",
    "if cores:\n",
    "    print(f'Using {cores} processes')\n",
    "\n",
    "import test_figure_creation\n",
    "\n",
    "test_figure_creation.test_world_overview()"
   ]
  },
  {
   "cell_type": "code",
   "execution_count": null,
   "metadata": {},
   "outputs": [],
   "source": [
    "test_figure_creation.test_germany_overview()"
   ]
  },
  {
   "cell_type": "code",
   "execution_count": null,
   "metadata": {},
   "outputs": [],
   "source": []
  }
 ],
 "metadata": {
  "kernelspec": {
   "display_name": "Python 3",
   "language": "python",
   "name": "python3"
  },
  "language_info": {
   "codemirror_mode": {
    "name": "ipython",
    "version": 3
   },
   "file_extension": ".py",
   "mimetype": "text/x-python",
   "name": "python",
   "nbconvert_exporter": "python",
   "pygments_lexer": "ipython3",
   "version": "3.7.6"
  }
 },
 "nbformat": 4,
 "nbformat_minor": 4
}